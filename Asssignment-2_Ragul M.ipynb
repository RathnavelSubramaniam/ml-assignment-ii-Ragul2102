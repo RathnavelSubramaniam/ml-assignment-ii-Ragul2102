{
 "cells": [
  {
   "cell_type": "markdown",
   "id": "72ffc05d",
   "metadata": {},
   "source": [
    "#  Assignment_2--Ragul M,1P24CS014"
   ]
  },
  {
   "cell_type": "code",
   "execution_count": 4,
   "id": "691dd31f",
   "metadata": {},
   "outputs": [],
   "source": [
    "import numpy as np\n",
    "import pandas as pd\n",
    "import matplotlib.pyplot as plt\n",
    "import seaborn as sns\n",
    "import statsmodels.api as sm\n",
    "from ISLP import load_data\n"
   ]
  },
  {
   "cell_type": "code",
   "execution_count": 5,
   "id": "7e8516ae",
   "metadata": {},
   "outputs": [
    {
     "data": {
      "text/html": [
       "<div>\n",
       "<style scoped>\n",
       "    .dataframe tbody tr th:only-of-type {\n",
       "        vertical-align: middle;\n",
       "    }\n",
       "\n",
       "    .dataframe tbody tr th {\n",
       "        vertical-align: top;\n",
       "    }\n",
       "\n",
       "    .dataframe thead th {\n",
       "        text-align: right;\n",
       "    }\n",
       "</style>\n",
       "<table border=\"1\" class=\"dataframe\">\n",
       "  <thead>\n",
       "    <tr style=\"text-align: right;\">\n",
       "      <th></th>\n",
       "      <th>crim</th>\n",
       "      <th>zn</th>\n",
       "      <th>indus</th>\n",
       "      <th>chas</th>\n",
       "      <th>nox</th>\n",
       "      <th>rm</th>\n",
       "      <th>age</th>\n",
       "      <th>dis</th>\n",
       "      <th>rad</th>\n",
       "      <th>tax</th>\n",
       "      <th>ptratio</th>\n",
       "      <th>lstat</th>\n",
       "      <th>medv</th>\n",
       "    </tr>\n",
       "  </thead>\n",
       "  <tbody>\n",
       "    <tr>\n",
       "      <th>0</th>\n",
       "      <td>0.00632</td>\n",
       "      <td>18.0</td>\n",
       "      <td>2.31</td>\n",
       "      <td>0</td>\n",
       "      <td>0.538</td>\n",
       "      <td>6.575</td>\n",
       "      <td>65.2</td>\n",
       "      <td>4.0900</td>\n",
       "      <td>1</td>\n",
       "      <td>296</td>\n",
       "      <td>15.3</td>\n",
       "      <td>4.98</td>\n",
       "      <td>24.0</td>\n",
       "    </tr>\n",
       "    <tr>\n",
       "      <th>1</th>\n",
       "      <td>0.02731</td>\n",
       "      <td>0.0</td>\n",
       "      <td>7.07</td>\n",
       "      <td>0</td>\n",
       "      <td>0.469</td>\n",
       "      <td>6.421</td>\n",
       "      <td>78.9</td>\n",
       "      <td>4.9671</td>\n",
       "      <td>2</td>\n",
       "      <td>242</td>\n",
       "      <td>17.8</td>\n",
       "      <td>9.14</td>\n",
       "      <td>21.6</td>\n",
       "    </tr>\n",
       "    <tr>\n",
       "      <th>2</th>\n",
       "      <td>0.02729</td>\n",
       "      <td>0.0</td>\n",
       "      <td>7.07</td>\n",
       "      <td>0</td>\n",
       "      <td>0.469</td>\n",
       "      <td>7.185</td>\n",
       "      <td>61.1</td>\n",
       "      <td>4.9671</td>\n",
       "      <td>2</td>\n",
       "      <td>242</td>\n",
       "      <td>17.8</td>\n",
       "      <td>4.03</td>\n",
       "      <td>34.7</td>\n",
       "    </tr>\n",
       "    <tr>\n",
       "      <th>3</th>\n",
       "      <td>0.03237</td>\n",
       "      <td>0.0</td>\n",
       "      <td>2.18</td>\n",
       "      <td>0</td>\n",
       "      <td>0.458</td>\n",
       "      <td>6.998</td>\n",
       "      <td>45.8</td>\n",
       "      <td>6.0622</td>\n",
       "      <td>3</td>\n",
       "      <td>222</td>\n",
       "      <td>18.7</td>\n",
       "      <td>2.94</td>\n",
       "      <td>33.4</td>\n",
       "    </tr>\n",
       "    <tr>\n",
       "      <th>4</th>\n",
       "      <td>0.06905</td>\n",
       "      <td>0.0</td>\n",
       "      <td>2.18</td>\n",
       "      <td>0</td>\n",
       "      <td>0.458</td>\n",
       "      <td>7.147</td>\n",
       "      <td>54.2</td>\n",
       "      <td>6.0622</td>\n",
       "      <td>3</td>\n",
       "      <td>222</td>\n",
       "      <td>18.7</td>\n",
       "      <td>5.33</td>\n",
       "      <td>36.2</td>\n",
       "    </tr>\n",
       "    <tr>\n",
       "      <th>...</th>\n",
       "      <td>...</td>\n",
       "      <td>...</td>\n",
       "      <td>...</td>\n",
       "      <td>...</td>\n",
       "      <td>...</td>\n",
       "      <td>...</td>\n",
       "      <td>...</td>\n",
       "      <td>...</td>\n",
       "      <td>...</td>\n",
       "      <td>...</td>\n",
       "      <td>...</td>\n",
       "      <td>...</td>\n",
       "      <td>...</td>\n",
       "    </tr>\n",
       "    <tr>\n",
       "      <th>501</th>\n",
       "      <td>0.06263</td>\n",
       "      <td>0.0</td>\n",
       "      <td>11.93</td>\n",
       "      <td>0</td>\n",
       "      <td>0.573</td>\n",
       "      <td>6.593</td>\n",
       "      <td>69.1</td>\n",
       "      <td>2.4786</td>\n",
       "      <td>1</td>\n",
       "      <td>273</td>\n",
       "      <td>21.0</td>\n",
       "      <td>9.67</td>\n",
       "      <td>22.4</td>\n",
       "    </tr>\n",
       "    <tr>\n",
       "      <th>502</th>\n",
       "      <td>0.04527</td>\n",
       "      <td>0.0</td>\n",
       "      <td>11.93</td>\n",
       "      <td>0</td>\n",
       "      <td>0.573</td>\n",
       "      <td>6.120</td>\n",
       "      <td>76.7</td>\n",
       "      <td>2.2875</td>\n",
       "      <td>1</td>\n",
       "      <td>273</td>\n",
       "      <td>21.0</td>\n",
       "      <td>9.08</td>\n",
       "      <td>20.6</td>\n",
       "    </tr>\n",
       "    <tr>\n",
       "      <th>503</th>\n",
       "      <td>0.06076</td>\n",
       "      <td>0.0</td>\n",
       "      <td>11.93</td>\n",
       "      <td>0</td>\n",
       "      <td>0.573</td>\n",
       "      <td>6.976</td>\n",
       "      <td>91.0</td>\n",
       "      <td>2.1675</td>\n",
       "      <td>1</td>\n",
       "      <td>273</td>\n",
       "      <td>21.0</td>\n",
       "      <td>5.64</td>\n",
       "      <td>23.9</td>\n",
       "    </tr>\n",
       "    <tr>\n",
       "      <th>504</th>\n",
       "      <td>0.10959</td>\n",
       "      <td>0.0</td>\n",
       "      <td>11.93</td>\n",
       "      <td>0</td>\n",
       "      <td>0.573</td>\n",
       "      <td>6.794</td>\n",
       "      <td>89.3</td>\n",
       "      <td>2.3889</td>\n",
       "      <td>1</td>\n",
       "      <td>273</td>\n",
       "      <td>21.0</td>\n",
       "      <td>6.48</td>\n",
       "      <td>22.0</td>\n",
       "    </tr>\n",
       "    <tr>\n",
       "      <th>505</th>\n",
       "      <td>0.04741</td>\n",
       "      <td>0.0</td>\n",
       "      <td>11.93</td>\n",
       "      <td>0</td>\n",
       "      <td>0.573</td>\n",
       "      <td>6.030</td>\n",
       "      <td>80.8</td>\n",
       "      <td>2.5050</td>\n",
       "      <td>1</td>\n",
       "      <td>273</td>\n",
       "      <td>21.0</td>\n",
       "      <td>7.88</td>\n",
       "      <td>11.9</td>\n",
       "    </tr>\n",
       "  </tbody>\n",
       "</table>\n",
       "<p>506 rows × 13 columns</p>\n",
       "</div>"
      ],
      "text/plain": [
       "        crim    zn  indus  chas    nox     rm   age     dis  rad  tax  \\\n",
       "0    0.00632  18.0   2.31     0  0.538  6.575  65.2  4.0900    1  296   \n",
       "1    0.02731   0.0   7.07     0  0.469  6.421  78.9  4.9671    2  242   \n",
       "2    0.02729   0.0   7.07     0  0.469  7.185  61.1  4.9671    2  242   \n",
       "3    0.03237   0.0   2.18     0  0.458  6.998  45.8  6.0622    3  222   \n",
       "4    0.06905   0.0   2.18     0  0.458  7.147  54.2  6.0622    3  222   \n",
       "..       ...   ...    ...   ...    ...    ...   ...     ...  ...  ...   \n",
       "501  0.06263   0.0  11.93     0  0.573  6.593  69.1  2.4786    1  273   \n",
       "502  0.04527   0.0  11.93     0  0.573  6.120  76.7  2.2875    1  273   \n",
       "503  0.06076   0.0  11.93     0  0.573  6.976  91.0  2.1675    1  273   \n",
       "504  0.10959   0.0  11.93     0  0.573  6.794  89.3  2.3889    1  273   \n",
       "505  0.04741   0.0  11.93     0  0.573  6.030  80.8  2.5050    1  273   \n",
       "\n",
       "     ptratio  lstat  medv  \n",
       "0       15.3   4.98  24.0  \n",
       "1       17.8   9.14  21.6  \n",
       "2       17.8   4.03  34.7  \n",
       "3       18.7   2.94  33.4  \n",
       "4       18.7   5.33  36.2  \n",
       "..       ...    ...   ...  \n",
       "501     21.0   9.67  22.4  \n",
       "502     21.0   9.08  20.6  \n",
       "503     21.0   5.64  23.9  \n",
       "504     21.0   6.48  22.0  \n",
       "505     21.0   7.88  11.9  \n",
       "\n",
       "[506 rows x 13 columns]"
      ]
     },
     "execution_count": 5,
     "metadata": {},
     "output_type": "execute_result"
    }
   ],
   "source": [
    "Bos_data = load_data(\"Boston\")\n",
    "Bos_data"
   ]
  },
  {
   "cell_type": "markdown",
   "id": "bf47f2a4",
   "metadata": {},
   "source": [
    "1.A\n"
   ]
  },
  {
   "cell_type": "code",
   "execution_count": 6,
   "id": "2649e4d1",
   "metadata": {},
   "outputs": [
    {
     "name": "stdout",
     "output_type": "stream",
     "text": [
      "[-1.08304327e-01  2.02409572e+00 -4.22878755e-02 -9.28510618e-01\n",
      " -1.90008552e+00 -2.76826893e-01  4.90926184e-01 -1.07380123e+00\n",
      "  2.08383308e-01 -1.97639558e+00  1.50871845e-01  2.17156885e+00\n",
      " -3.97093903e-01 -1.41476884e+00 -2.00759466e-01  5.86690451e-01\n",
      "  5.37845209e-01  1.56864042e+00 -6.20781631e-02 -3.23028364e-01\n",
      "  8.32032475e-01 -1.97544486e+00 -3.89179899e-03 -1.17535863e+00\n",
      " -1.04021710e+00  7.31879380e-02 -1.46957304e+00 -1.31516782e-01\n",
      " -1.68793205e+00 -1.18390256e+00 -1.19562119e-01  1.03671478e+00\n",
      " -1.60193540e+00  2.76649491e-01  1.01599414e+00  1.91696900e-03\n",
      " -3.68709992e-01  5.17891986e-01 -9.41654228e-01 -2.42882652e+00\n",
      "  5.93723793e-01 -1.81195216e+00 -3.65229242e-01 -5.48578866e-03\n",
      "  9.11042406e-01  6.20348662e-01 -1.76598227e+00 -1.58141894e+00\n",
      "  3.39585894e-01 -8.98460657e-01 -1.31844903e+00  7.78593784e-01\n",
      " -1.34558501e+00 -1.03117215e+00  1.39422863e+00 -4.34516931e-01\n",
      "  3.24873539e-01 -7.84007666e-01  2.37786701e-01 -1.08682357e+00\n",
      " -1.04682227e+00 -1.06304218e+00 -1.13030058e+00  8.92978283e-01\n",
      " -1.53726068e+00 -1.87190445e-02  7.63812886e-01 -1.89993272e+00\n",
      "  1.22729645e+00  2.36816922e+00 -5.30521247e-01  8.79739334e-01\n",
      "  1.46701828e+00  2.38533887e-01 -7.14788784e-01  8.85873142e-01\n",
      "  1.24215341e-01 -4.28714244e-01 -4.02039124e-01 -1.05110191e+00\n",
      "  6.43069726e-01 -1.77301116e+00  5.21327910e-02 -8.19565160e-02\n",
      "  7.57123944e-01 -6.84166343e-01  1.33681750e-01  1.40374060e+00\n",
      "  1.36047109e+00  1.31939678e+00  7.18372293e-02  5.24196324e-01\n",
      "  5.57130270e-01 -3.22156572e-01 -2.02190224e-02  9.44488106e-01\n",
      "  1.30003004e+00 -1.04849332e+00 -2.79310531e-01  1.11001673e+00]\n"
     ]
    }
   ],
   "source": [
    "x = np.random.normal(0, 1, 100)\n",
    "print(x)"
   ]
  },
  {
   "cell_type": "markdown",
   "id": "8e147218",
   "metadata": {},
   "source": [
    "1.B"
   ]
  },
  {
   "cell_type": "code",
   "execution_count": 7,
   "id": "47923514",
   "metadata": {},
   "outputs": [
    {
     "name": "stdout",
     "output_type": "stream",
     "text": [
      "[ 0.12015744  0.41000187  0.03679625  0.21342071 -0.61742122 -0.06046154\n",
      "  0.24927577  0.11608221  0.18856076  0.11298242  0.40555268 -0.17558907\n",
      " -0.32884724  0.32081864 -0.29239298  0.35868299 -0.01204212  0.07928938\n",
      "  0.12724143 -0.10209419  0.2291185   0.28644362  0.68537948 -0.20201479\n",
      " -0.15009263 -0.39051657  0.15618238  0.03017233 -0.16191146  0.2326454\n",
      " -0.53078874  0.21882898  0.04179427 -0.01320847  0.14294134  0.26805711\n",
      "  0.35424901 -0.25208507 -0.05182475 -0.31691107  0.23000714  0.4328204\n",
      "  0.26250707  0.2280854  -0.08963224  0.19077968  0.21170581  0.24902089\n",
      " -0.14068357  0.11967258  0.10152342 -0.07566483  0.40431855  0.12837131\n",
      " -0.06336571 -0.32502206  0.13747644 -0.18108958  0.29095599  0.09561753\n",
      " -0.56593345 -0.05334347  0.20931024 -0.169346   -0.06455483  0.38616839\n",
      "  0.20120876  0.45343199 -0.36450091 -0.12095387  0.13896382 -0.05869586\n",
      " -0.12851813  0.07391488 -0.04421248  0.10727514  0.34643729 -0.39755951\n",
      " -0.5053148  -0.85576163  0.29563893  0.03733842 -0.02211418  0.04066804\n",
      "  0.18484198  0.18220584 -0.26139663  0.31474477  0.28601522 -0.01134458\n",
      " -0.5150397   0.36708775 -0.20555357  0.30823155  0.01034426  0.10258177\n",
      " -0.18677711  0.08170827 -0.13674891  0.37726633]\n"
     ]
    }
   ],
   "source": [
    "eps = np.random.normal(0, 0.25, 100)\n",
    "print(eps)"
   ]
  },
  {
   "cell_type": "markdown",
   "id": "d90fad71",
   "metadata": {},
   "source": [
    " 1.C"
   ]
  },
  {
   "cell_type": "code",
   "execution_count": 8,
   "id": "b2e22561",
   "metadata": {},
   "outputs": [
    {
     "name": "stdout",
     "output_type": "stream",
     "text": [
      "Length of y: 100\n",
      "Beta0 (β0): -1\n",
      "Beta1 (β1): 0.5\n"
     ]
    }
   ],
   "source": [
    "y = -1 + 0.5 * x + eps\n",
    "print(\"Length of y:\", len(y))\n",
    "print(\"Beta0 (β0): -1\")\n",
    "print(\"Beta1 (β1): 0.5\")"
   ]
  },
  {
   "cell_type": "markdown",
   "id": "e428b6c7",
   "metadata": {},
   "source": [
    "1.D"
   ]
  },
  {
   "cell_type": "code",
   "execution_count": 9,
   "id": "3fa961f8",
   "metadata": {},
   "outputs": [
    {
     "data": {
      "image/png": "[encoded data removed]",
      "text/plain": [
       "<Figure size 640x480 with 1 Axes>"
      ]
     },
     "metadata": {},
     "output_type": "display_data"
    }
   ],
   "source": [
    "plt.scatter(x, y, color=\"blue\")\n",
    "plt.title(\"Scatterplot of X vs Y\")\n",
    "plt.xlabel(\"X\")\n",
    "plt.ylabel(\"Y\")\n",
    "plt.show()"
   ]
  },
  {
   "cell_type": "markdown",
   "id": "ff93e9ee",
   "metadata": {},
   "source": [
    "1.E"
   ]
  },
  {
   "cell_type": "code",
   "execution_count": 10,
   "id": "12fc2b6f",
   "metadata": {},
   "outputs": [
    {
     "name": "stdout",
     "output_type": "stream",
     "text": [
      "                            OLS Regression Results                            \n",
      "==============================================================================\n",
      "Dep. Variable:                      y   R-squared:                       0.797\n",
      "Model:                            OLS   Adj. R-squared:                  0.794\n",
      "Method:                 Least Squares   F-statistic:                     383.6\n",
      "Date:                Wed, 15 Oct 2025   Prob (F-statistic):           1.18e-35\n",
      "Time:                        14:14:33   Log-Likelihood:                -10.994\n",
      "No. Observations:                 100   AIC:                             25.99\n",
      "Df Residuals:                      98   BIC:                             31.20\n",
      "Df Model:                           1                                         \n",
      "Covariance Type:            nonrobust                                         \n",
      "==============================================================================\n",
      "                 coef    std err          t      P>|t|      [0.025      0.975]\n",
      "------------------------------------------------------------------------------\n",
      "const         -0.9605      0.028    -34.909      0.000      -1.015      -0.906\n",
      "x1             0.5131      0.026     19.585      0.000       0.461       0.565\n",
      "==============================================================================\n",
      "Omnibus:                        7.300   Durbin-Watson:                   2.119\n",
      "Prob(Omnibus):                  0.026   Jarque-Bera (JB):                6.863\n",
      "Skew:                          -0.616   Prob(JB):                       0.0323\n",
      "Kurtosis:                       3.356   Cond. No.                         1.15\n",
      "==============================================================================\n",
      "\n",
      "Notes:\n",
      "[1] Standard Errors assume that the covariance matrix of the errors is correctly specified.\n"
     ]
    }
   ],
   "source": [
    "X = sm.add_constant(x)\n",
    "model = sm.OLS(y, X).fit()\n",
    "print(model.summary())"
   ]
  },
  {
   "cell_type": "markdown",
   "id": "4bd66602",
   "metadata": {},
   "source": [
    "1.F"
   ]
  },
  {
   "cell_type": "code",
   "execution_count": 11,
   "id": "999d616e",
   "metadata": {},
   "outputs": [
    {
     "data": {
      "image/png": "[encoded data removed]",
      "text/plain": [
       "<Figure size 640x480 with 1 Axes>"
      ]
     },
     "metadata": {},
     "output_type": "display_data"
    }
   ],
   "source": [
    "plt.scatter(x, y, color=\"blue\", label=\"Data\")\n",
    "plt.plot(x, model.predict(X), color=\"red\", label=\"Least Squares Line\")\n",
    "plt.plot(x, -1 + 0.5*x, color=\"green\", linestyle=\"--\", label=\"True Line\")\n",
    "plt.title(\"Least Squares Line vs True Line\")\n",
    "plt.xlabel(\"X\")\n",
    "plt.ylabel(\"Y\")\n",
    "plt.legend()\n",
    "plt.show()"
   ]
  },
  {
   "cell_type": "markdown",
   "id": "d61627db",
   "metadata": {},
   "source": [
    "2.A"
   ]
  },
  {
   "cell_type": "code",
   "execution_count": 12,
   "id": "530b8010",
   "metadata": {},
   "outputs": [
    {
     "name": "stdout",
     "output_type": "stream",
     "text": [
      "Rad Predictor Model Summary:\n",
      "                            OLS Regression Results                            \n",
      "==============================================================================\n",
      "Dep. Variable:                   crim   R-squared:                       0.391\n",
      "Model:                            OLS   Adj. R-squared:                  0.390\n",
      "Method:                 Least Squares   F-statistic:                     323.9\n",
      "Date:                Wed, 15 Oct 2025   Prob (F-statistic):           2.69e-56\n",
      "Time:                        14:14:33   Log-Likelihood:                -1680.8\n",
      "No. Observations:                 506   AIC:                             3366.\n",
      "Df Residuals:                     504   BIC:                             3374.\n",
      "Df Model:                           1                                         \n",
      "Covariance Type:            nonrobust                                         \n",
      "==============================================================================\n",
      "                 coef    std err          t      P>|t|      [0.025      0.975]\n",
      "------------------------------------------------------------------------------\n",
      "const         -2.2872      0.443     -5.157      0.000      -3.158      -1.416\n",
      "rad            0.6179      0.034     17.998      0.000       0.550       0.685\n",
      "==============================================================================\n",
      "Omnibus:                      656.459   Durbin-Watson:                   1.337\n",
      "Prob(Omnibus):                  0.000   Jarque-Bera (JB):            75417.007\n",
      "Skew:                           6.478   Prob(JB):                         0.00\n",
      "Kurtosis:                      61.389   Cond. No.                         19.2\n",
      "==============================================================================\n",
      "\n",
      "Notes:\n",
      "[1] Standard Errors assume that the covariance matrix of the errors is correctly specified.\n"
     ]
    }
   ],
   "source": [
    "y = Bos_data[\"crim\"]\n",
    "\n",
    "X_rad = sm.add_constant(Bos_data[\"rad\"])\n",
    "model_rad = sm.OLS(y, X_rad).fit()\n",
    "print(\"Rad Predictor Model Summary:\")\n",
    "print(model_rad.summary())"
   ]
  },
  {
   "cell_type": "markdown",
   "id": "253ae725",
   "metadata": {},
   "source": [
    "2.B"
   ]
  },
  {
   "cell_type": "code",
   "execution_count": 13,
   "id": "9204e27c",
   "metadata": {},
   "outputs": [
    {
     "name": "stdout",
     "output_type": "stream",
     "text": [
      "                            OLS Regression Results                            \n",
      "==============================================================================\n",
      "Dep. Variable:                   crim   R-squared:                       0.449\n",
      "Model:                            OLS   Adj. R-squared:                  0.436\n",
      "Method:                 Least Squares   F-statistic:                     33.52\n",
      "Date:                Wed, 15 Oct 2025   Prob (F-statistic):           2.03e-56\n",
      "Time:                        14:14:33   Log-Likelihood:                -1655.4\n",
      "No. Observations:                 506   AIC:                             3337.\n",
      "Df Residuals:                     493   BIC:                             3392.\n",
      "Df Model:                          12                                         \n",
      "Covariance Type:            nonrobust                                         \n",
      "==============================================================================\n",
      "                 coef    std err          t      P>|t|      [0.025      0.975]\n",
      "------------------------------------------------------------------------------\n",
      "const         13.7784      7.082      1.946      0.052      -0.136      27.693\n",
      "zn             0.0457      0.019      2.433      0.015       0.009       0.083\n",
      "indus         -0.0584      0.084     -0.698      0.486      -0.223       0.106\n",
      "chas          -0.8254      1.183     -0.697      0.486      -3.150       1.500\n",
      "nox           -9.9576      5.290     -1.882      0.060     -20.351       0.436\n",
      "rm             0.6289      0.607      1.036      0.301      -0.564       1.822\n",
      "age           -0.0008      0.018     -0.047      0.962      -0.036       0.034\n",
      "dis           -1.0122      0.282     -3.584      0.000      -1.567      -0.457\n",
      "rad            0.6125      0.088      6.997      0.000       0.440       0.784\n",
      "tax           -0.0038      0.005     -0.730      0.466      -0.014       0.006\n",
      "ptratio       -0.3041      0.186     -1.632      0.103      -0.670       0.062\n",
      "lstat          0.1388      0.076      1.833      0.067      -0.010       0.288\n",
      "medv          -0.2201      0.060     -3.678      0.000      -0.338      -0.103\n",
      "==============================================================================\n",
      "Omnibus:                      663.436   Durbin-Watson:                   1.516\n",
      "Prob(Omnibus):                  0.000   Jarque-Bera (JB):            80856.852\n",
      "Skew:                           6.579   Prob(JB):                         0.00\n",
      "Kurtosis:                      63.514   Cond. No.                     1.24e+04\n",
      "==============================================================================\n",
      "\n",
      "Notes:\n",
      "[1] Standard Errors assume that the covariance matrix of the errors is correctly specified.\n",
      "[2] The condition number is large, 1.24e+04. This might indicate that there are\n",
      "strong multicollinearity or other numerical problems.\n",
      "\n",
      "Significant predictors (p < 0.05):\n",
      " zn      1.534403e-02\n",
      "dis     3.725942e-04\n",
      "rad     8.588123e-12\n",
      "medv    2.605302e-04\n",
      "dtype: float64\n"
     ]
    }
   ],
   "source": [
    "y = Bos_data[\"crim\"]\n",
    "X = Bos_data.drop(columns=[\"crim\"])\n",
    "X = sm.add_constant(X)\n",
    "multi_model = sm.OLS(y, X).fit()\n",
    "print(multi_model.summary())\n",
    "significant_predictors = multi_model.pvalues[multi_model.pvalues < 0.05]\n",
    "print(\"\\nSignificant predictors (p < 0.05):\\n\", significant_predictors)"
   ]
  }
 ],
 "metadata": {
  "kernelspec": {
   "display_name": "Python 3",
   "language": "python",
   "name": "python3"
  },
  "language_info": {
   "codemirror_mode": {
    "name": "ipython",
    "version": 3
   },
   "file_extension": ".py",
   "mimetype": "text/x-python",
   "name": "python",
   "nbconvert_exporter": "python",
   "pygments_lexer": "ipython3",
   "version": "3.12.6"
  }
 },
 "nbformat": 4,
 "nbformat_minor": 5
}
